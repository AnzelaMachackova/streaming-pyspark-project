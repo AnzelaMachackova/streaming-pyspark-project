{
 "cells": [
  {
   "cell_type": "code",
   "execution_count": 12,
   "id": "dbc7068e",
   "metadata": {},
   "outputs": [],
   "source": [
    "from pyspark.sql import SparkSession\n",
    "from pyspark.sql.functions import lit"
   ]
  },
  {
   "cell_type": "code",
   "execution_count": 2,
   "id": "1f5b1a66",
   "metadata": {},
   "outputs": [
    {
     "name": "stderr",
     "output_type": "stream",
     "text": [
      "24/11/11 14:00:24 WARN SparkSession: Using an existing Spark session; only runtime SQL configurations will take effect.\n"
     ]
    }
   ],
   "source": [
    "# initialize SparkSession\n",
    "spark = SparkSession.builder \\\n",
    "    .appName(\"Streaming Platform Analyze\") \\\n",
    "    .getOrCreate()"
   ]
  },
  {
   "cell_type": "code",
   "execution_count": 7,
   "id": "467923e1",
   "metadata": {},
   "outputs": [],
   "source": [
    "# paths to CSVs\n",
    "csv_apple_data = \"gs://raw-platform-data/apple_data.csv\"\n",
    "csv_netflix_data = \"gs://raw-platform-data/netflix_data.csv\"\n",
    "csv_hbo_data = \"gs://raw-platform-data/hbo_data.csv\"\n",
    "csv_amazon_data = \"gs://raw-platform-data/amazon_data.csv\""
   ]
  },
  {
   "cell_type": "code",
   "execution_count": 8,
   "id": "4f6b0ddd",
   "metadata": {},
   "outputs": [],
   "source": [
    "# function to load a CSV into df\n",
    "def load_csv_to_df(file_path):\n",
    "    try:\n",
    "        df = spark.read.format(\"csv\") \\\n",
    "            .option(\"header\", \"true\") \\\n",
    "            .option(\"inferSchema\", \"true\") \\\n",
    "            .load(file_path)\n",
    "        return df\n",
    "    except Exception as e:\n",
    "        print(f\"Error reading file {file_path}: {e}\")\n",
    "        return None"
   ]
  },
  {
   "cell_type": "code",
   "execution_count": 9,
   "id": "9e014426",
   "metadata": {},
   "outputs": [
    {
     "name": "stderr",
     "output_type": "stream",
     "text": [
      "                                                                                \r"
     ]
    }
   ],
   "source": [
    "# load data to df\n",
    "df_apple = load_csv_to_df(csv_apple_data)\n",
    "df_netflix = load_csv_to_df(csv_netflix_data)\n",
    "df_hbo = load_csv_to_df(csv_hbo_data)\n",
    "df_amazon = load_csv_to_df(csv_amazon_data)"
   ]
  },
  {
   "cell_type": "code",
   "execution_count": 13,
   "id": "c52888cf",
   "metadata": {},
   "outputs": [],
   "source": [
    "\n",
    "df_apple = df_apple.withColumn(\"platform\", lit(\"Apple TV+\"))\n",
    "df_netflix = df_netflix.withColumn(\"platform\", lit(\"Netflix\"))\n",
    "df_hbo = df_hbo.withColumn(\"platform\", lit(\"HBO Max\"))\n",
    "df_amazon = df_amazon.withColumn(\"platform\", lit(\"Amazon Prime\"))"
   ]
  },
  {
   "cell_type": "code",
   "execution_count": 14,
   "id": "5bdf42ea",
   "metadata": {},
   "outputs": [],
   "source": [
    "combined_df = df_netflix.unionByName(df_apple) \\\n",
    "                           .unionByName(df_hbo) \\\n",
    "                           .unionByName(df_amazon)"
   ]
  },
  {
   "cell_type": "code",
   "execution_count": 15,
   "id": "caa88696",
   "metadata": {},
   "outputs": [
    {
     "name": "stdout",
     "output_type": "stream",
     "text": [
      "+--------------------+-----+--------------------+-----------+---------+-----------------+------------+--------------------+--------+\n",
      "|               title| type|              genres|releaseYear|   imdbId|imdbAverageRating|imdbNumVotes|  availableCountries|platform|\n",
      "+--------------------+-----+--------------------+-----------+---------+-----------------+------------+--------------------+--------+\n",
      "|        Forrest Gump|movie|      Drama, Romance|       1994|tt0109830|              8.8|   2316975.0|                  MX| Netflix|\n",
      "|   The Fifth Element|movie|Action, Adventure...|       1997|tt0119116|              7.6|    517225.0|          AT, CH, DE| Netflix|\n",
      "|   Kill Bill: Vol. 1|movie|Action, Crime, Th...|       2003|tt0266697|              8.2|   1222077.0|AE, AL, AO, AT, A...| Netflix|\n",
      "|             Jarhead|movie|Biography, Drama,...|       2005|tt0418763|                7|    211593.0|AD, AE, AG, AL, A...| Netflix|\n",
      "|          Unforgiven|movie|      Drama, Western|       1992|tt0105695|              8.2|    443878.0|AU, BA, BG, CZ, H...| Netflix|\n",
      "|Eternal Sunshine ...|movie|Drama, Romance, S...|       2004|tt0338013|              8.3|   1104135.0|AD, AE, AG, AL, A...| Netflix|\n",
      "|       Amores Perros|movie|     Drama, Thriller|       2000|tt0245712|                8|    256616.0|AG, AR, BB, BM, B...| Netflix|\n",
      "|A History of Viol...|movie|Action, Crime, Drama|       2005|tt0399146|              7.4|    259071.0|AD, CA, ES, GB, G...| Netflix|\n",
      "|2001: A Space Ody...|movie|   Adventure, Sci-Fi|       1968|tt0062622|              8.3|    735274.0|              AU, NZ| Netflix|\n",
      "|         Talk to Her|movie|Drama, Mystery, R...|       2002|tt0287467|              7.9|    118722.0|AG, AR, BB, BO, B...| Netflix|\n",
      "+--------------------+-----+--------------------+-----------+---------+-----------------+------------+--------------------+--------+\n",
      "only showing top 10 rows\n",
      "\n"
     ]
    }
   ],
   "source": [
    "combined_df.show(10)"
   ]
  },
  {
   "cell_type": "code",
   "execution_count": null,
   "id": "b89eecc1",
   "metadata": {},
   "outputs": [],
   "source": []
  }
 ],
 "metadata": {
  "kernelspec": {
   "display_name": "PySpark",
   "language": "python",
   "name": "pyspark"
  },
  "language_info": {
   "codemirror_mode": {
    "name": "ipython",
    "version": 3
   },
   "file_extension": ".py",
   "mimetype": "text/x-python",
   "name": "python",
   "nbconvert_exporter": "python",
   "pygments_lexer": "ipython3",
   "version": "3.11.8"
  }
 },
 "nbformat": 4,
 "nbformat_minor": 5
}