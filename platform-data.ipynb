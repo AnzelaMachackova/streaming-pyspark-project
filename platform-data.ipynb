{
 "cells": [
  {
   "cell_type": "code",
   "execution_count": 1,
   "id": "dbc7068e",
   "metadata": {},
   "outputs": [],
   "source": [
    "from pyspark.sql import SparkSession\n",
    "from pyspark.sql.functions import lit, trim, col, regexp_replace"
   ]
  },
  {
   "cell_type": "code",
   "execution_count": 2,
   "id": "1f5b1a66",
   "metadata": {},
   "outputs": [
    {
     "name": "stderr",
     "output_type": "stream",
     "text": [
      "24/11/12 14:54:26 WARN SparkSession: Using an existing Spark session; only runtime SQL configurations will take effect.\n"
     ]
    }
   ],
   "source": [
    "# initialize SparkSession\n",
    "spark = SparkSession.builder \\\n",
    "    .appName(\"Streaming Platform Analyze\") \\\n",
    "    .getOrCreate()"
   ]
  },
  {
   "cell_type": "markdown",
   "id": "a61d4cb6",
   "metadata": {},
   "source": [
    "### Data Preparation"
   ]
  },
  {
   "cell_type": "code",
   "execution_count": 3,
   "id": "467923e1",
   "metadata": {},
   "outputs": [],
   "source": [
    "# paths to CSVs\n",
    "csv_apple_data = \"gs://raw-platform-data/apple_data.csv\"\n",
    "csv_netflix_data = \"gs://raw-platform-data/netflix_data.csv\"\n",
    "csv_hbo_data = \"gs://raw-platform-data/hbo_data.csv\"\n",
    "csv_amazon_data = \"gs://raw-platform-data/amazon_data.csv\""
   ]
  },
  {
   "cell_type": "code",
   "execution_count": 4,
   "id": "4f6b0ddd",
   "metadata": {},
   "outputs": [],
   "source": [
    "# function to load a CSV into df\n",
    "def load_csv_to_df(file_path):\n",
    "    try:\n",
    "        df = spark.read.format(\"csv\") \\\n",
    "            .option(\"header\", \"true\") \\\n",
    "            .option(\"inferSchema\", \"true\") \\\n",
    "            .option(\"quote\", '\"') \\\n",
    "            .option(\"escape\", '\"') \\\n",
    "            .load(file_path)\n",
    "        return df\n",
    "    except Exception as e:\n",
    "        print(f\"Error reading file {file_path}: {e}\")\n",
    "        return None"
   ]
  },
  {
   "cell_type": "code",
   "execution_count": 5,
   "id": "9e014426",
   "metadata": {},
   "outputs": [
    {
     "name": "stderr",
     "output_type": "stream",
     "text": [
      "                                                                                \r"
     ]
    }
   ],
   "source": [
    "# load data to df\n",
    "df_apple = load_csv_to_df(csv_apple_data)\n",
    "df_netflix = load_csv_to_df(csv_netflix_data)\n",
    "df_hbo = load_csv_to_df(csv_hbo_data)\n",
    "df_amazon = load_csv_to_df(csv_amazon_data)"
   ]
  },
  {
   "cell_type": "code",
   "execution_count": 6,
   "id": "c52888cf",
   "metadata": {},
   "outputs": [],
   "source": [
    "df_apple = df_apple.withColumn(\"platform\", lit(\"Apple TV+\"))\n",
    "df_netflix = df_netflix.withColumn(\"platform\", lit(\"Netflix\"))\n",
    "df_hbo = df_hbo.withColumn(\"platform\", lit(\"HBO Max\"))\n",
    "df_amazon = df_amazon.withColumn(\"platform\", lit(\"Amazon Prime\"))"
   ]
  },
  {
   "cell_type": "code",
   "execution_count": 7,
   "id": "5bdf42ea",
   "metadata": {},
   "outputs": [],
   "source": [
    "combined_df = df_netflix.unionByName(df_apple) \\\n",
    "                           .unionByName(df_hbo) \\\n",
    "                           .unionByName(df_amazon)"
   ]
  },
  {
   "cell_type": "markdown",
   "id": "1819bbd0",
   "metadata": {},
   "source": [
    "### Data exploration and cleaning"
   ]
  },
  {
   "cell_type": "code",
   "execution_count": 8,
   "id": "caa88696",
   "metadata": {},
   "outputs": [
    {
     "name": "stdout",
     "output_type": "stream",
     "text": [
      "+--------------------+-----+--------------------+-----------+---------+-----------------+------------+--------------------+--------+\n",
      "|               title| type|              genres|releaseYear|   imdbId|imdbAverageRating|imdbNumVotes|  availableCountries|platform|\n",
      "+--------------------+-----+--------------------+-----------+---------+-----------------+------------+--------------------+--------+\n",
      "|        Forrest Gump|movie|      Drama, Romance|       1994|tt0109830|              8.8|     2316975|                  MX| Netflix|\n",
      "|   The Fifth Element|movie|Action, Adventure...|       1997|tt0119116|              7.6|      517225|          AT, CH, DE| Netflix|\n",
      "|   Kill Bill: Vol. 1|movie|Action, Crime, Th...|       2003|tt0266697|              8.2|     1222077|AE, AL, AO, AT, A...| Netflix|\n",
      "|             Jarhead|movie|Biography, Drama,...|       2005|tt0418763|              7.0|      211593|AD, AE, AG, AL, A...| Netflix|\n",
      "|          Unforgiven|movie|      Drama, Western|       1992|tt0105695|              8.2|      443878|AU, BA, BG, CZ, H...| Netflix|\n",
      "|Eternal Sunshine ...|movie|Drama, Romance, S...|       2004|tt0338013|              8.3|     1104135|AD, AE, AG, AL, A...| Netflix|\n",
      "|       Amores Perros|movie|     Drama, Thriller|       2000|tt0245712|              8.0|      256616|AG, AR, BB, BM, B...| Netflix|\n",
      "|A History of Viol...|movie|Action, Crime, Drama|       2005|tt0399146|              7.4|      259071|AD, CA, ES, GB, G...| Netflix|\n",
      "|2001: A Space Ody...|movie|   Adventure, Sci-Fi|       1968|tt0062622|              8.3|      735274|              AU, NZ| Netflix|\n",
      "|         Talk to Her|movie|Drama, Mystery, R...|       2002|tt0287467|              7.9|      118722|AG, AR, BB, BO, B...| Netflix|\n",
      "+--------------------+-----+--------------------+-----------+---------+-----------------+------------+--------------------+--------+\n",
      "only showing top 10 rows\n",
      "\n"
     ]
    }
   ],
   "source": [
    "combined_df.show(10)"
   ]
  },
  {
   "cell_type": "code",
   "execution_count": 9,
   "id": "3c68fefa",
   "metadata": {},
   "outputs": [
    {
     "name": "stdout",
     "output_type": "stream",
     "text": [
      "root\n",
      " |-- title: string (nullable = true)\n",
      " |-- type: string (nullable = true)\n",
      " |-- genres: string (nullable = true)\n",
      " |-- releaseYear: integer (nullable = true)\n",
      " |-- imdbId: string (nullable = true)\n",
      " |-- imdbAverageRating: double (nullable = true)\n",
      " |-- imdbNumVotes: integer (nullable = true)\n",
      " |-- availableCountries: string (nullable = true)\n",
      " |-- platform: string (nullable = false)\n",
      "\n"
     ]
    }
   ],
   "source": [
    "combined_df.printSchema()"
   ]
  },
  {
   "cell_type": "code",
   "execution_count": 10,
   "id": "b1375561",
   "metadata": {},
   "outputs": [],
   "source": [
    "# convert releaseYear to int and imdbAverageRating to double\n",
    "combined_df = combined_df.withColumn(\"releaseYear\", col(\"releaseYear\").cast(\"int\")) \\\n",
    "                            .withColumn(\"imdbAverageRating\", col(\"imdbAverageRating\").cast(\"double\"))"
   ]
  },
  {
   "cell_type": "code",
   "execution_count": 11,
   "id": "b89eecc1",
   "metadata": {},
   "outputs": [
    {
     "name": "stderr",
     "output_type": "stream",
     "text": [
      "[Stage 9:=================================================>         (5 + 1) / 6]\r"
     ]
    },
    {
     "name": "stdout",
     "output_type": "stream",
     "text": [
      "+-----+\n",
      "| type|\n",
      "+-----+\n",
      "|   tv|\n",
      "|movie|\n",
      "+-----+\n",
      "\n"
     ]
    },
    {
     "name": "stderr",
     "output_type": "stream",
     "text": [
      "\r",
      "                                                                                \r"
     ]
    }
   ],
   "source": [
    "combined_df.select('type').distinct().show()"
   ]
  },
  {
   "cell_type": "code",
   "execution_count": 12,
   "id": "db49eb41",
   "metadata": {
    "scrolled": true
   },
   "outputs": [
    {
     "name": "stderr",
     "output_type": "stream",
     "text": [
      "                                                                                \r"
     ]
    },
    {
     "name": "stdout",
     "output_type": "stream",
     "text": [
      "+--------------------+----+--------------------+-----------+----------+-----------------+------------+--------------------+------------+\n",
      "|               title|type|              genres|releaseYear|    imdbId|imdbAverageRating|imdbNumVotes|  availableCountries|    platform|\n",
      "+--------------------+----+--------------------+-----------+----------+-----------------+------------+--------------------+------------+\n",
      "|'Tis Time for \"To...|  tv|Animation, Comedy...|       2024|tt30643998|              6.4|         221|HK, ID, IN, JP, M...|     Netflix|\n",
      "|'Tis Time for \"To...|  tv|Animation, Comedy...|       2024|tt30643998|              6.4|         221|                  JP|Amazon Prime|\n",
      "+--------------------+----+--------------------+-----------+----------+-----------------+------------+--------------------+------------+\n",
      "\n"
     ]
    }
   ],
   "source": [
    "# verifing rows with \"'Tis Time for\" in the title for specific movie \n",
    "# to confirm quoted fields were handled correctly during csv parsing\n",
    "\n",
    "# combined_df.filter(trim(combined_df['title']) == '\"\" Princess\"').show()\n",
    "combined_df.filter(combined_df[\"title\"].like(\"%'Tis Time for%\")).show()"
   ]
  },
  {
   "cell_type": "code",
   "execution_count": 13,
   "id": "2849442e",
   "metadata": {},
   "outputs": [
    {
     "name": "stderr",
     "output_type": "stream",
     "text": [
      "[Stage 15:================================================>         (5 + 1) / 6]\r"
     ]
    },
    {
     "name": "stdout",
     "output_type": "stream",
     "text": [
      "+--------------------+\n",
      "|              genres|\n",
      "+--------------------+\n",
      "|Animation, Comedy...|\n",
      "|Documentary, Hist...|\n",
      "|       Family, Short|\n",
      "|Drama, Musical, R...|\n",
      "|Drama, Romance, T...|\n",
      "|   Documentary, News|\n",
      "|      Music, Romance|\n",
      "|Drama, Family, Th...|\n",
      "|      Musical, Short|\n",
      "|Adventure, Horror...|\n",
      "|Drama, Fantasy, M...|\n",
      "|Romance, Family, ...|\n",
      "|  Family, Reality-TV|\n",
      "|      Family, Sci-Fi|\n",
      "|Adventure, Family...|\n",
      "|Drama, Sci-Fi , F...|\n",
      "|Comedy, Music, Mu...|\n",
      "| Crime, Drama, Sport|\n",
      "|Comedy, Horror, T...|\n",
      "|Comedy, Family, M...|\n",
      "+--------------------+\n",
      "only showing top 20 rows\n",
      "\n"
     ]
    },
    {
     "name": "stderr",
     "output_type": "stream",
     "text": [
      "\r",
      "                                                                                \r"
     ]
    }
   ],
   "source": [
    "# replace '&' with ',' in the genres column\n",
    "combined_df = combined_df.withColumn(\"genres\", regexp_replace(\"genres\", \"&\", \",\"))\n",
    "combined_df.select(\"genres\").distinct().show()"
   ]
  },
  {
   "cell_type": "code",
   "execution_count": 14,
   "id": "13c91516",
   "metadata": {},
   "outputs": [
    {
     "name": "stderr",
     "output_type": "stream",
     "text": [
      "                                                                                \r"
     ]
    },
    {
     "name": "stdout",
     "output_type": "stream",
     "text": [
      "+-----+----+------+-----------+------+-----------------+------------+------------------+--------+\n",
      "|title|type|genres|releaseYear|imdbId|imdbAverageRating|imdbNumVotes|availableCountries|platform|\n",
      "+-----+----+------+-----------+------+-----------------+------------+------------------+--------+\n",
      "+-----+----+------+-----------+------+-----------------+------------+------------------+--------+\n",
      "\n"
     ]
    }
   ],
   "source": [
    "# validating columns imdbAverageRating and releaseYear\n",
    "invalid_imdb_rating = combined_df.filter((combined_df[\"imdbAverageRating\"] < 0) | (combined_df[\"imdbAverageRating\"] > 10))\n",
    "invalid_imdb_rating.show()"
   ]
  },
  {
   "cell_type": "code",
   "execution_count": 15,
   "id": "7ade51e7",
   "metadata": {},
   "outputs": [
    {
     "name": "stderr",
     "output_type": "stream",
     "text": [
      "\r",
      "[Stage 22:=============================>                            (2 + 2) / 4]\r",
      "\r",
      "[Stage 22:===========================================>              (3 + 1) / 4]\r"
     ]
    },
    {
     "name": "stdout",
     "output_type": "stream",
     "text": [
      "+--------------------+-----+--------------------+-----------+------+-----------------+------------+--------------------+---------+\n",
      "|               title| type|              genres|releaseYear|imdbId|imdbAverageRating|imdbNumVotes|  availableCountries| platform|\n",
      "+--------------------+-----+--------------------+-----------+------+-----------------+------------+--------------------+---------+\n",
      "|Rudra: Secret of ...|movie|                NULL|       NULL|  NULL|             NULL|        NULL|AE, AG, AL, AO, A...|  Netflix|\n",
      "|  Ahead of the Curve|movie|                NULL|       NULL|  NULL|             NULL|        NULL|AU, CA, FJ, GB, G...|  Netflix|\n",
      "|                NULL|   tv|                NULL|       NULL|  NULL|             NULL|        NULL|          PH, SG, TW|  Netflix|\n",
      "|                NULL|   tv|Drama, Crime, Mys...|       NULL|  NULL|             NULL|        NULL|                  CA|  Netflix|\n",
      "|                NULL|   tv|           Animation|       NULL|  NULL|             NULL|        NULL|AD, AE, AG, AL, A...|  Netflix|\n",
      "|                NULL|   tv|                NULL|       NULL|  NULL|             NULL|        NULL|AG, AL, AO, AU, A...|  Netflix|\n",
      "|                NULL|   tv|                NULL|       NULL|  NULL|             NULL|        NULL|AD, AE, AG, AL, A...|  Netflix|\n",
      "|                NULL|   tv|  Action , Adventure|       NULL|  NULL|             NULL|        NULL|                  KR|  Netflix|\n",
      "|                NULL|   tv|                NULL|       NULL|  NULL|             NULL|        NULL|CI, CV, GH, GQ, K...|  Netflix|\n",
      "|                NULL|   tv|               Drama|       NULL|  NULL|             NULL|        NULL|AD, AE, AG, AL, A...|  Netflix|\n",
      "|                NULL|   tv|                NULL|       NULL|  NULL|             NULL|        NULL|                  KR|  Netflix|\n",
      "|                NULL|   tv|                NULL|       NULL|  NULL|             NULL|        NULL|AE, AG, AL, AR, A...|  Netflix|\n",
      "|                NULL|   tv|      Drama, Mystery|       NULL|  NULL|             NULL|        NULL|AD, AE, AG, AL, A...|  Netflix|\n",
      "|                NULL|   tv|                NULL|       NULL|  NULL|             NULL|        NULL|AG, AO, AR, AU, B...|  Netflix|\n",
      "|                NULL|   tv|                NULL|       NULL|  NULL|             NULL|        NULL|FJ, HK, ID, IN, J...|  Netflix|\n",
      "|              Natudu|movie|   Romance, Thriller|       NULL|  NULL|             NULL|        NULL|              IN, US|Apple TV+|\n",
      "|Kadhalikka Nerami...|movie|Romance, Fantasy,...|       NULL|  NULL|             NULL|        NULL|                  US|Apple TV+|\n",
      "|                NULL|   tv|               Drama|       NULL|  NULL|             NULL|        NULL|                  US|Apple TV+|\n",
      "|                NULL|   tv|                NULL|       NULL|  NULL|             NULL|        NULL|          AU, CA, US|Apple TV+|\n",
      "|                NULL|   tv|                NULL|       NULL|  NULL|             NULL|        NULL|              CA, US|Apple TV+|\n",
      "+--------------------+-----+--------------------+-----------+------+-----------------+------------+--------------------+---------+\n",
      "only showing top 20 rows\n",
      "\n"
     ]
    },
    {
     "name": "stderr",
     "output_type": "stream",
     "text": [
      "\r",
      "                                                                                \r"
     ]
    }
   ],
   "source": [
    "invalid_year = combined_df.filter((combined_df[\"releaseYear\"] < 1900) | (combined_df[\"releaseYear\"].isNull()))\n",
    "# invalid_year.count() # 219\n",
    "invalid_year.show()"
   ]
  },
  {
   "cell_type": "code",
   "execution_count": 16,
   "id": "1f866b02",
   "metadata": {},
   "outputs": [],
   "source": [
    "# drop rows where all specified columns are null, because they don't give us enough information\n",
    "# columns_to_drop = [\"genres\", \"releaseYear\", \"imdbId\", \"imdbAverageRating\"]\n",
    "# cleaned_df = combined_df.dropna(subset=columns_to_drop, how=\"all\")"
   ]
  },
  {
   "cell_type": "code",
   "execution_count": 17,
   "id": "83343dc0",
   "metadata": {},
   "outputs": [],
   "source": [
    "# split combined_df into two datasets based on the 'type' column\n",
    "movies_df = combined_df.filter(combined_df[\"type\"] == \"movie\")\n",
    "tv_df = combined_df.filter(combined_df[\"type\"] == \"tv\")"
   ]
  },
  {
   "cell_type": "code",
   "execution_count": 18,
   "id": "c1d552f2",
   "metadata": {},
   "outputs": [],
   "source": [
    "# drop type column\n",
    "movies_df = movies_df.drop(\"type\")\n",
    "tv_df = tv_df.drop(\"type\")"
   ]
  },
  {
   "cell_type": "code",
   "execution_count": 19,
   "id": "e610302a",
   "metadata": {},
   "outputs": [
    {
     "name": "stdout",
     "output_type": "stream",
     "text": [
      "+--------------------+--------------------+-----------+---------+-----------------+------------+--------------------+--------+\n",
      "|               title|              genres|releaseYear|   imdbId|imdbAverageRating|imdbNumVotes|  availableCountries|platform|\n",
      "+--------------------+--------------------+-----------+---------+-----------------+------------+--------------------+--------+\n",
      "|        Forrest Gump|      Drama, Romance|       1994|tt0109830|              8.8|     2316975|                  MX| Netflix|\n",
      "|   The Fifth Element|Action, Adventure...|       1997|tt0119116|              7.6|      517225|          AT, CH, DE| Netflix|\n",
      "|   Kill Bill: Vol. 1|Action, Crime, Th...|       2003|tt0266697|              8.2|     1222077|AE, AL, AO, AT, A...| Netflix|\n",
      "|             Jarhead|Biography, Drama,...|       2005|tt0418763|              7.0|      211593|AD, AE, AG, AL, A...| Netflix|\n",
      "|          Unforgiven|      Drama, Western|       1992|tt0105695|              8.2|      443878|AU, BA, BG, CZ, H...| Netflix|\n",
      "|Eternal Sunshine ...|Drama, Romance, S...|       2004|tt0338013|              8.3|     1104135|AD, AE, AG, AL, A...| Netflix|\n",
      "|       Amores Perros|     Drama, Thriller|       2000|tt0245712|              8.0|      256616|AG, AR, BB, BM, B...| Netflix|\n",
      "|A History of Viol...|Action, Crime, Drama|       2005|tt0399146|              7.4|      259071|AD, CA, ES, GB, G...| Netflix|\n",
      "|2001: A Space Ody...|   Adventure, Sci-Fi|       1968|tt0062622|              8.3|      735274|              AU, NZ| Netflix|\n",
      "|         Talk to Her|Drama, Mystery, R...|       2002|tt0287467|              7.9|      118722|AG, AR, BB, BO, B...| Netflix|\n",
      "|              8 Mile|        Drama, Music|       2002|tt0298203|              7.2|      330320|AD, AE, AG, AL, A...| Netflix|\n",
      "|        Paradise Now|Crime, Drama, Thr...|       2005|tt0445620|              7.4|       24307|AE, BH, DZ, EG, I...| Netflix|\n",
      "| Million Dollar Baby|        Drama, Sport|       2004|tt0405159|              8.1|      732832|          IT, SM, US| Netflix|\n",
      "|        Billy Elliot|        Drama, Music|       2000|tt0249462|              7.7|      145894|          GB, GG, IE| Netflix|\n",
      "|  American History X|        Crime, Drama|       1998|tt0120586|              8.5|     1207816|          AD, ES, PT| Netflix|\n",
      "|   War of the Worlds|Action, Adventure...|       2005|tt0407304|              6.5|      482911|AG, AR, BB, BO, B...| Netflix|\n",
      "|       Mars Attacks!|      Comedy, Sci-Fi|       1996|tt0116996|              6.4|      248581|      BE, CH, IT, SM| Netflix|\n",
      "|      Before Sunrise|      Drama, Romance|       1995|tt0112471|              8.1|      348775|      AU, CY, NZ, TR| Netflix|\n",
      "|             Memento|   Mystery, Thriller|       2000|tt0209144|              8.4|     1348453|                  KR| Netflix|\n",
      "|                Hero|Action, Adventure...|       2002|tt0299977|              7.9|      189212|          HK, KR, US| Netflix|\n",
      "+--------------------+--------------------+-----------+---------+-----------------+------------+--------------------+--------+\n",
      "only showing top 20 rows\n",
      "\n"
     ]
    }
   ],
   "source": [
    "movies_df.show()"
   ]
  },
  {
   "cell_type": "code",
   "execution_count": 20,
   "id": "f12b2f09",
   "metadata": {},
   "outputs": [
    {
     "name": "stdout",
     "output_type": "stream",
     "text": [
      "+--------------------+--------------------+-----------+---------+-----------------+------------+--------------------+--------+\n",
      "|               title|              genres|releaseYear|   imdbId|imdbAverageRating|imdbNumVotes|  availableCountries|platform|\n",
      "+--------------------+--------------------+-----------+---------+-----------------+------------+--------------------+--------+\n",
      "|                NULL|              Comedy|       1996|     NULL|             NULL|        NULL|          HK, JP, TW| Netflix|\n",
      "|    Sex and the City|Comedy, Drama, Ro...|       1998|tt0159206|              7.3|      148475|AG, AR, BA, BB, B...| Netflix|\n",
      "|             7 vidas|              Comedy|       1999|tt0192877|              7.1|        1537|                  ES| Netflix|\n",
      "|              Martin|Comedy, Drama, Ro...|       1992|tt0103488|              7.5|       11234|                  US| Netflix|\n",
      "|            The Game|Comedy, Drama, Ro...|       2006|tt0772137|              6.8|        4892|                  US| Netflix|\n",
      "|Avatar: The Last ...|Action, Adventure...|       2005|tt0417299|              9.3|      388347|AD, AE, AG, AO, A...| Netflix|\n",
      "|           Star Trek|Action, Adventure...|       1966|tt0060028|              8.4|       95076|AD, AE, AG, AL, A...| Netflix|\n",
      "|Star Trek: Enterp...|Action, Adventure...|       2001|tt0244365|              7.6|       60576|AD, AE, AG, AL, A...| Netflix|\n",
      "|SpongeBob SquareP...|Animation, Comedy...|       1999|tt0206512|              8.2|      115396|AE, AG, AL, AO, A...| Netflix|\n",
      "|          Still Game|              Comedy|       2002|tt0281491|              8.9|        9609|AG, AL, AO, AU, A...| Netflix|\n",
      "|       Ghost Hunters|Reality-TV, Thriller|       2004|tt0426697|              6.3|        7338|                  US| Netflix|\n",
      "|       Sesame Street|Adventure, Animat...|       1969|tt0063951|              8.1|       15847|              AU, NZ| Netflix|\n",
      "|Star Trek: Deep S...|Action, Adventure...|       1993|tt0106145|              8.1|       72653|AD, AE, AG, AL, A...| Netflix|\n",
      "| The Powerpuff Girls|Action, Adventure...|       1998|tt0175058|              7.3|       49220|AE, AG, AL, AO, A...| Netflix|\n",
      "|                Reba|       Comedy, Drama|       2001|tt0284722|              6.8|       18335|                  US| Netflix|\n",
      "|Star Trek: The Ne...|Action, Adventure...|       1987|tt0092455|              8.7|      139904|AD, AE, AG, AL, A...| Netflix|\n",
      "|      Curious George|Adventure, Animat...|       2006|tt0449545|              7.2|        3752|                  JP| Netflix|\n",
      "| Tom and Jerry Tales|Animation, Comedy...|       2006|tt0780438|              7.4|        4013|                  US| Netflix|\n",
      "|    Chappelle's Show|       Comedy, Music|       2003|tt0353049|              8.8|       73291|                  US| Netflix|\n",
      "|           Peep Show|              Comedy|       2003|tt0387764|              8.7|       68198|  BM, GB, GG, GI, IE| Netflix|\n",
      "+--------------------+--------------------+-----------+---------+-----------------+------------+--------------------+--------+\n",
      "only showing top 20 rows\n",
      "\n"
     ]
    },
    {
     "name": "stderr",
     "output_type": "stream",
     "text": [
      "\r",
      "[Stage 24:>                                                         (0 + 1) / 1]\r",
      "\r",
      "                                                                                \r"
     ]
    }
   ],
   "source": [
    "tv_df.show()"
   ]
  },
  {
   "cell_type": "markdown",
   "id": "364fa929",
   "metadata": {},
   "source": [
    "### Data analysis and insights"
   ]
  },
  {
   "cell_type": "code",
   "execution_count": null,
   "id": "eab8d3a6",
   "metadata": {},
   "outputs": [],
   "source": []
  }
 ],
 "metadata": {
  "kernelspec": {
   "display_name": "PySpark",
   "language": "python",
   "name": "pyspark"
  },
  "language_info": {
   "codemirror_mode": {
    "name": "ipython",
    "version": 3
   },
   "file_extension": ".py",
   "mimetype": "text/x-python",
   "name": "python",
   "nbconvert_exporter": "python",
   "pygments_lexer": "ipython3",
   "version": "3.11.8"
  }
 },
 "nbformat": 4,
 "nbformat_minor": 5
}