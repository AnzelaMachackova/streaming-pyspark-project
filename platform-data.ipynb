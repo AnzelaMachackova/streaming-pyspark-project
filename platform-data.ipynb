{
 "cells": [
  {
   "cell_type": "code",
   "execution_count": 1,
   "id": "dbc7068e",
   "metadata": {},
   "outputs": [],
   "source": [
    "from pyspark.sql import SparkSession\n",
    "from pyspark.sql.functions import lit, trim, col, regexp_replace, array_contains, split, explode, avg"
   ]
  },
  {
   "cell_type": "code",
   "execution_count": 2,
   "id": "1f5b1a66",
   "metadata": {},
   "outputs": [
    {
     "name": "stderr",
     "output_type": "stream",
     "text": [
      "24/11/13 15:46:56 WARN SparkSession: Using an existing Spark session; only runtime SQL configurations will take effect.\n"
     ]
    }
   ],
   "source": [
    "# initialize SparkSession\n",
    "spark = SparkSession.builder \\\n",
    "    .appName(\"Streaming Platform Analyze\") \\\n",
    "    .getOrCreate()"
   ]
  },
  {
   "cell_type": "markdown",
   "id": "a61d4cb6",
   "metadata": {},
   "source": [
    "### Data Preparation"
   ]
  },
  {
   "cell_type": "code",
   "execution_count": 3,
   "id": "467923e1",
   "metadata": {},
   "outputs": [],
   "source": [
    "# paths to CSVs\n",
    "csv_apple_data = \"gs://raw-platform-data/apple_data.csv\"\n",
    "csv_netflix_data = \"gs://raw-platform-data/netflix_data.csv\"\n",
    "csv_hbo_data = \"gs://raw-platform-data/hbo_data.csv\"\n",
    "csv_amazon_data = \"gs://raw-platform-data/amazon_data.csv\""
   ]
  },
  {
   "cell_type": "code",
   "execution_count": 4,
   "id": "4f6b0ddd",
   "metadata": {},
   "outputs": [],
   "source": [
    "# function to load a CSV into df\n",
    "def load_csv_to_df(file_path):\n",
    "    try:\n",
    "        df = spark.read.format(\"csv\") \\\n",
    "            .option(\"header\", \"true\") \\\n",
    "            .option(\"inferSchema\", \"true\") \\\n",
    "            .option(\"quote\", '\"') \\\n",
    "            .option(\"escape\", '\"') \\\n",
    "            .load(file_path)\n",
    "        return df\n",
    "    except Exception as e:\n",
    "        print(f\"Error reading file {file_path}: {e}\")\n",
    "        return None"
   ]
  },
  {
   "cell_type": "code",
   "execution_count": 5,
   "id": "9e014426",
   "metadata": {},
   "outputs": [
    {
     "name": "stderr",
     "output_type": "stream",
     "text": [
      "                                                                                \r"
     ]
    }
   ],
   "source": [
    "# load data to df\n",
    "df_apple = load_csv_to_df(csv_apple_data)\n",
    "df_netflix = load_csv_to_df(csv_netflix_data)\n",
    "df_hbo = load_csv_to_df(csv_hbo_data)\n",
    "df_amazon = load_csv_to_df(csv_amazon_data)"
   ]
  },
  {
   "cell_type": "code",
   "execution_count": 6,
   "id": "c52888cf",
   "metadata": {},
   "outputs": [],
   "source": [
    "df_apple = df_apple.withColumn(\"platform\", lit(\"Apple TV+\"))\n",
    "df_netflix = df_netflix.withColumn(\"platform\", lit(\"Netflix\"))\n",
    "df_hbo = df_hbo.withColumn(\"platform\", lit(\"HBO Max\"))\n",
    "df_amazon = df_amazon.withColumn(\"platform\", lit(\"Amazon Prime\"))"
   ]
  },
  {
   "cell_type": "code",
   "execution_count": 7,
   "id": "5bdf42ea",
   "metadata": {},
   "outputs": [],
   "source": [
    "combined_df = df_netflix.unionByName(df_apple) \\\n",
    "                           .unionByName(df_hbo) \\\n",
    "                           .unionByName(df_amazon)"
   ]
  },
  {
   "cell_type": "markdown",
   "id": "1819bbd0",
   "metadata": {},
   "source": [
    "### Data exploration and cleaning"
   ]
  },
  {
   "cell_type": "code",
   "execution_count": 8,
   "id": "caa88696",
   "metadata": {},
   "outputs": [
    {
     "name": "stdout",
     "output_type": "stream",
     "text": [
      "+--------------------+-----+--------------------+-----------+---------+-----------------+------------+--------------------+--------+\n",
      "|               title| type|              genres|releaseYear|   imdbId|imdbAverageRating|imdbNumVotes|  availableCountries|platform|\n",
      "+--------------------+-----+--------------------+-----------+---------+-----------------+------------+--------------------+--------+\n",
      "|        Forrest Gump|movie|      Drama, Romance|       1994|tt0109830|              8.8|     2316975|                  MX| Netflix|\n",
      "|   The Fifth Element|movie|Action, Adventure...|       1997|tt0119116|              7.6|      517225|          AT, CH, DE| Netflix|\n",
      "|   Kill Bill: Vol. 1|movie|Action, Crime, Th...|       2003|tt0266697|              8.2|     1222077|AE, AL, AO, AT, A...| Netflix|\n",
      "|             Jarhead|movie|Biography, Drama,...|       2005|tt0418763|              7.0|      211593|AD, AE, AG, AL, A...| Netflix|\n",
      "|          Unforgiven|movie|      Drama, Western|       1992|tt0105695|              8.2|      443878|AU, BA, BG, CZ, H...| Netflix|\n",
      "|Eternal Sunshine ...|movie|Drama, Romance, S...|       2004|tt0338013|              8.3|     1104135|AD, AE, AG, AL, A...| Netflix|\n",
      "|       Amores Perros|movie|     Drama, Thriller|       2000|tt0245712|              8.0|      256616|AG, AR, BB, BM, B...| Netflix|\n",
      "|A History of Viol...|movie|Action, Crime, Drama|       2005|tt0399146|              7.4|      259071|AD, CA, ES, GB, G...| Netflix|\n",
      "|2001: A Space Ody...|movie|   Adventure, Sci-Fi|       1968|tt0062622|              8.3|      735274|              AU, NZ| Netflix|\n",
      "|         Talk to Her|movie|Drama, Mystery, R...|       2002|tt0287467|              7.9|      118722|AG, AR, BB, BO, B...| Netflix|\n",
      "+--------------------+-----+--------------------+-----------+---------+-----------------+------------+--------------------+--------+\n",
      "only showing top 10 rows\n",
      "\n"
     ]
    }
   ],
   "source": [
    "combined_df.show(10)"
   ]
  },
  {
   "cell_type": "code",
   "execution_count": 9,
   "id": "3c68fefa",
   "metadata": {},
   "outputs": [
    {
     "name": "stdout",
     "output_type": "stream",
     "text": [
      "root\n",
      " |-- title: string (nullable = true)\n",
      " |-- type: string (nullable = true)\n",
      " |-- genres: string (nullable = true)\n",
      " |-- releaseYear: integer (nullable = true)\n",
      " |-- imdbId: string (nullable = true)\n",
      " |-- imdbAverageRating: double (nullable = true)\n",
      " |-- imdbNumVotes: integer (nullable = true)\n",
      " |-- availableCountries: string (nullable = true)\n",
      " |-- platform: string (nullable = false)\n",
      "\n"
     ]
    }
   ],
   "source": [
    "combined_df.printSchema()"
   ]
  },
  {
   "cell_type": "code",
   "execution_count": 10,
   "id": "b1375561",
   "metadata": {},
   "outputs": [],
   "source": [
    "# convert releaseYear to int and imdbAverageRating to double\n",
    "combined_df = combined_df.withColumn(\"releaseYear\", col(\"releaseYear\").cast(\"int\")) \\\n",
    "                            .withColumn(\"imdbAverageRating\", col(\"imdbAverageRating\").cast(\"double\"))"
   ]
  },
  {
   "cell_type": "code",
   "execution_count": 11,
   "id": "b89eecc1",
   "metadata": {},
   "outputs": [
    {
     "name": "stderr",
     "output_type": "stream",
     "text": [
      "[Stage 9:=================================================>         (5 + 1) / 6]\r"
     ]
    },
    {
     "name": "stdout",
     "output_type": "stream",
     "text": [
      "+-----+\n",
      "| type|\n",
      "+-----+\n",
      "|   tv|\n",
      "|movie|\n",
      "+-----+\n",
      "\n"
     ]
    },
    {
     "name": "stderr",
     "output_type": "stream",
     "text": [
      "\r",
      "[Stage 11:>                                                         (0 + 1) / 1]\r",
      "\r",
      "                                                                                \r"
     ]
    }
   ],
   "source": [
    "combined_df.select('type').distinct().show()"
   ]
  },
  {
   "cell_type": "code",
   "execution_count": 12,
   "id": "db49eb41",
   "metadata": {
    "scrolled": true
   },
   "outputs": [
    {
     "name": "stderr",
     "output_type": "stream",
     "text": [
      "                                                                                \r"
     ]
    },
    {
     "name": "stdout",
     "output_type": "stream",
     "text": [
      "+--------------------+----+--------------------+-----------+----------+-----------------+------------+--------------------+------------+\n",
      "|               title|type|              genres|releaseYear|    imdbId|imdbAverageRating|imdbNumVotes|  availableCountries|    platform|\n",
      "+--------------------+----+--------------------+-----------+----------+-----------------+------------+--------------------+------------+\n",
      "|'Tis Time for \"To...|  tv|Animation, Comedy...|       2024|tt30643998|              6.4|         221|HK, ID, IN, JP, M...|     Netflix|\n",
      "|'Tis Time for \"To...|  tv|Animation, Comedy...|       2024|tt30643998|              6.4|         221|                  JP|Amazon Prime|\n",
      "+--------------------+----+--------------------+-----------+----------+-----------------+------------+--------------------+------------+\n",
      "\n"
     ]
    }
   ],
   "source": [
    "# verifing rows with \"'Tis Time for\" in the title for specific movie \n",
    "# to confirm quoted fields were handled correctly during csv parsing\n",
    "\n",
    "# combined_df.filter(trim(combined_df['title']) == '\"\" Princess\"').show()\n",
    "combined_df.filter(combined_df[\"title\"].like(\"%'Tis Time for%\")).show()"
   ]
  },
  {
   "cell_type": "code",
   "execution_count": 13,
   "id": "2849442e",
   "metadata": {},
   "outputs": [
    {
     "name": "stderr",
     "output_type": "stream",
     "text": [
      "[Stage 15:================================================>         (5 + 1) / 6]\r"
     ]
    },
    {
     "name": "stdout",
     "output_type": "stream",
     "text": [
      "+--------------------+\n",
      "|              genres|\n",
      "+--------------------+\n",
      "|Animation, Comedy...|\n",
      "|    Game-Show, Sport|\n",
      "|       Family, Short|\n",
      "|Animation, Docume...|\n",
      "|Drama, Musical, R...|\n",
      "|Drama, Romance, T...|\n",
      "|   Documentary, News|\n",
      "|      Music, Romance|\n",
      "|Documentary, Hist...|\n",
      "|Adventure, Fantas...|\n",
      "|      Musical, Short|\n",
      "|Action, Animation...|\n",
      "|Adventure, Horror...|\n",
      "|Drama, Fantasy, M...|\n",
      "|  Family, Reality-TV|\n",
      "|Adventure, Family...|\n",
      "|History, Sport, T...|\n",
      "|Action, Adventure...|\n",
      "|Comedy, Music, Mu...|\n",
      "|Romance, Comedy, ...|\n",
      "+--------------------+\n",
      "only showing top 20 rows\n",
      "\n"
     ]
    },
    {
     "name": "stderr",
     "output_type": "stream",
     "text": [
      "\r",
      "                                                                                \r"
     ]
    }
   ],
   "source": [
    "# replace '&' with ',' in the genres column\n",
    "combined_df = combined_df.withColumn(\"genres\", regexp_replace(\"genres\", \"&\", \",\"))\n",
    "combined_df.select(\"genres\").distinct().show()"
   ]
  },
  {
   "cell_type": "code",
   "execution_count": 14,
   "id": "13c91516",
   "metadata": {},
   "outputs": [
    {
     "name": "stderr",
     "output_type": "stream",
     "text": [
      "                                                                                \r"
     ]
    },
    {
     "name": "stdout",
     "output_type": "stream",
     "text": [
      "+-----+----+------+-----------+------+-----------------+------------+------------------+--------+\n",
      "|title|type|genres|releaseYear|imdbId|imdbAverageRating|imdbNumVotes|availableCountries|platform|\n",
      "+-----+----+------+-----------+------+-----------------+------------+------------------+--------+\n",
      "+-----+----+------+-----------+------+-----------------+------------+------------------+--------+\n",
      "\n"
     ]
    },
    {
     "name": "stderr",
     "output_type": "stream",
     "text": [
      "\r",
      "[Stage 20:>                                                         (0 + 1) / 1]\r",
      "\r",
      "                                                                                \r"
     ]
    }
   ],
   "source": [
    "# validating columns imdbAverageRating and releaseYear\n",
    "invalid_imdb_rating = combined_df.filter((combined_df[\"imdbAverageRating\"] < 0) | (combined_df[\"imdbAverageRating\"] > 10))\n",
    "invalid_imdb_rating.show()"
   ]
  },
  {
   "cell_type": "code",
   "execution_count": 15,
   "id": "7ade51e7",
   "metadata": {},
   "outputs": [
    {
     "name": "stderr",
     "output_type": "stream",
     "text": [
      "\r",
      "[Stage 22:=============================>                            (2 + 2) / 4]\r",
      "\r",
      "[Stage 22:===========================================>              (3 + 1) / 4]\r"
     ]
    },
    {
     "name": "stdout",
     "output_type": "stream",
     "text": [
      "+--------------------+-----+--------------------+-----------+------+-----------------+------------+--------------------+---------+\n",
      "|               title| type|              genres|releaseYear|imdbId|imdbAverageRating|imdbNumVotes|  availableCountries| platform|\n",
      "+--------------------+-----+--------------------+-----------+------+-----------------+------------+--------------------+---------+\n",
      "|Rudra: Secret of ...|movie|                NULL|       NULL|  NULL|             NULL|        NULL|AE, AG, AL, AO, A...|  Netflix|\n",
      "|  Ahead of the Curve|movie|                NULL|       NULL|  NULL|             NULL|        NULL|AU, CA, FJ, GB, G...|  Netflix|\n",
      "|                NULL|   tv|                NULL|       NULL|  NULL|             NULL|        NULL|          PH, SG, TW|  Netflix|\n",
      "|                NULL|   tv|Drama, Crime, Mys...|       NULL|  NULL|             NULL|        NULL|                  CA|  Netflix|\n",
      "|                NULL|   tv|           Animation|       NULL|  NULL|             NULL|        NULL|AD, AE, AG, AL, A...|  Netflix|\n",
      "|                NULL|   tv|                NULL|       NULL|  NULL|             NULL|        NULL|AG, AL, AO, AU, A...|  Netflix|\n",
      "|                NULL|   tv|                NULL|       NULL|  NULL|             NULL|        NULL|AD, AE, AG, AL, A...|  Netflix|\n",
      "|                NULL|   tv|  Action , Adventure|       NULL|  NULL|             NULL|        NULL|                  KR|  Netflix|\n",
      "|                NULL|   tv|                NULL|       NULL|  NULL|             NULL|        NULL|CI, CV, GH, GQ, K...|  Netflix|\n",
      "|                NULL|   tv|               Drama|       NULL|  NULL|             NULL|        NULL|AD, AE, AG, AL, A...|  Netflix|\n",
      "|                NULL|   tv|                NULL|       NULL|  NULL|             NULL|        NULL|                  KR|  Netflix|\n",
      "|                NULL|   tv|                NULL|       NULL|  NULL|             NULL|        NULL|AE, AG, AL, AR, A...|  Netflix|\n",
      "|                NULL|   tv|      Drama, Mystery|       NULL|  NULL|             NULL|        NULL|AD, AE, AG, AL, A...|  Netflix|\n",
      "|                NULL|   tv|                NULL|       NULL|  NULL|             NULL|        NULL|AG, AO, AR, AU, B...|  Netflix|\n",
      "|                NULL|   tv|                NULL|       NULL|  NULL|             NULL|        NULL|FJ, HK, ID, IN, J...|  Netflix|\n",
      "|              Natudu|movie|   Romance, Thriller|       NULL|  NULL|             NULL|        NULL|              IN, US|Apple TV+|\n",
      "|Kadhalikka Nerami...|movie|Romance, Fantasy,...|       NULL|  NULL|             NULL|        NULL|                  US|Apple TV+|\n",
      "|                NULL|   tv|               Drama|       NULL|  NULL|             NULL|        NULL|                  US|Apple TV+|\n",
      "|                NULL|   tv|                NULL|       NULL|  NULL|             NULL|        NULL|          AU, CA, US|Apple TV+|\n",
      "|                NULL|   tv|                NULL|       NULL|  NULL|             NULL|        NULL|              CA, US|Apple TV+|\n",
      "+--------------------+-----+--------------------+-----------+------+-----------------+------------+--------------------+---------+\n",
      "only showing top 20 rows\n",
      "\n"
     ]
    },
    {
     "name": "stderr",
     "output_type": "stream",
     "text": [
      "\r",
      "                                                                                \r"
     ]
    }
   ],
   "source": [
    "invalid_year = combined_df.filter((combined_df[\"releaseYear\"] < 1900) | (combined_df[\"releaseYear\"].isNull()))\n",
    "# invalid_year.count() # 219\n",
    "invalid_year.show()"
   ]
  },
  {
   "cell_type": "code",
   "execution_count": 16,
   "id": "1f866b02",
   "metadata": {},
   "outputs": [],
   "source": [
    "# drop rows where all specified columns are null, because they don't give us enough information\n",
    "# columns_to_drop = [\"genres\", \"releaseYear\", \"imdbId\", \"imdbAverageRating\"]\n",
    "# cleaned_df = combined_df.dropna(subset=columns_to_drop, how=\"all\")"
   ]
  },
  {
   "cell_type": "code",
   "execution_count": 17,
   "id": "83343dc0",
   "metadata": {},
   "outputs": [],
   "source": [
    "# split combined_df into two datasets based on the 'type' column\n",
    "movies_df = combined_df.filter(combined_df[\"type\"] == \"movie\")\n",
    "tv_df = combined_df.filter(combined_df[\"type\"] == \"tv\")"
   ]
  },
  {
   "cell_type": "code",
   "execution_count": 18,
   "id": "c1d552f2",
   "metadata": {},
   "outputs": [],
   "source": [
    "# drop type column\n",
    "movies_df = movies_df.drop(\"type\")\n",
    "tv_df = tv_df.drop(\"type\")"
   ]
  },
  {
   "cell_type": "code",
   "execution_count": 19,
   "id": "e610302a",
   "metadata": {},
   "outputs": [
    {
     "name": "stdout",
     "output_type": "stream",
     "text": [
      "+--------------------+--------------------+-----------+---------+-----------------+------------+--------------------+--------+\n",
      "|               title|              genres|releaseYear|   imdbId|imdbAverageRating|imdbNumVotes|  availableCountries|platform|\n",
      "+--------------------+--------------------+-----------+---------+-----------------+------------+--------------------+--------+\n",
      "|        Forrest Gump|      Drama, Romance|       1994|tt0109830|              8.8|     2316975|                  MX| Netflix|\n",
      "|   The Fifth Element|Action, Adventure...|       1997|tt0119116|              7.6|      517225|          AT, CH, DE| Netflix|\n",
      "|   Kill Bill: Vol. 1|Action, Crime, Th...|       2003|tt0266697|              8.2|     1222077|AE, AL, AO, AT, A...| Netflix|\n",
      "|             Jarhead|Biography, Drama,...|       2005|tt0418763|              7.0|      211593|AD, AE, AG, AL, A...| Netflix|\n",
      "|          Unforgiven|      Drama, Western|       1992|tt0105695|              8.2|      443878|AU, BA, BG, CZ, H...| Netflix|\n",
      "|Eternal Sunshine ...|Drama, Romance, S...|       2004|tt0338013|              8.3|     1104135|AD, AE, AG, AL, A...| Netflix|\n",
      "|       Amores Perros|     Drama, Thriller|       2000|tt0245712|              8.0|      256616|AG, AR, BB, BM, B...| Netflix|\n",
      "|A History of Viol...|Action, Crime, Drama|       2005|tt0399146|              7.4|      259071|AD, CA, ES, GB, G...| Netflix|\n",
      "|2001: A Space Ody...|   Adventure, Sci-Fi|       1968|tt0062622|              8.3|      735274|              AU, NZ| Netflix|\n",
      "|         Talk to Her|Drama, Mystery, R...|       2002|tt0287467|              7.9|      118722|AG, AR, BB, BO, B...| Netflix|\n",
      "|              8 Mile|        Drama, Music|       2002|tt0298203|              7.2|      330320|AD, AE, AG, AL, A...| Netflix|\n",
      "|        Paradise Now|Crime, Drama, Thr...|       2005|tt0445620|              7.4|       24307|AE, BH, DZ, EG, I...| Netflix|\n",
      "| Million Dollar Baby|        Drama, Sport|       2004|tt0405159|              8.1|      732832|          IT, SM, US| Netflix|\n",
      "|        Billy Elliot|        Drama, Music|       2000|tt0249462|              7.7|      145894|          GB, GG, IE| Netflix|\n",
      "|  American History X|        Crime, Drama|       1998|tt0120586|              8.5|     1207816|          AD, ES, PT| Netflix|\n",
      "|   War of the Worlds|Action, Adventure...|       2005|tt0407304|              6.5|      482911|AG, AR, BB, BO, B...| Netflix|\n",
      "|       Mars Attacks!|      Comedy, Sci-Fi|       1996|tt0116996|              6.4|      248581|      BE, CH, IT, SM| Netflix|\n",
      "|      Before Sunrise|      Drama, Romance|       1995|tt0112471|              8.1|      348775|      AU, CY, NZ, TR| Netflix|\n",
      "|             Memento|   Mystery, Thriller|       2000|tt0209144|              8.4|     1348453|                  KR| Netflix|\n",
      "|                Hero|Action, Adventure...|       2002|tt0299977|              7.9|      189212|          HK, KR, US| Netflix|\n",
      "+--------------------+--------------------+-----------+---------+-----------------+------------+--------------------+--------+\n",
      "only showing top 20 rows\n",
      "\n"
     ]
    }
   ],
   "source": [
    "movies_df.show()"
   ]
  },
  {
   "cell_type": "markdown",
   "id": "364fa929",
   "metadata": {},
   "source": [
    "### Data analysis and insights"
   ]
  },
  {
   "cell_type": "markdown",
   "id": "38953774",
   "metadata": {},
   "source": [
    "This analysis focuses on movies and TV shows available in Czech Republic (all the platforms), filtered from the dataset, and provides insights based on international IMDb ratings."
   ]
  },
  {
   "cell_type": "code",
   "execution_count": 20,
   "id": "eab8d3a6",
   "metadata": {},
   "outputs": [],
   "source": [
    "# function that filters df for a specific release year and checks if the country is in the availableCountries column\n",
    "def filter_by_year_and_country(df, column_year, column_countries, year, country):\n",
    "    updated_df = df.filter(\n",
    "        (col(column_year) == year) & \n",
    "        (array_contains(split(col(column_countries), \", \"), country))\n",
    "    )\n",
    "    updated_df = updated_df.drop(col(column_countries))\n",
    "    return updated_df"
   ]
  },
  {
   "cell_type": "code",
   "execution_count": 21,
   "id": "366239c7",
   "metadata": {},
   "outputs": [],
   "source": [
    "cz_movies = filter_by_year_and_country(movies_df, \"releaseYear\", \"availableCountries\", 2024, \"CZ\")\n",
    "cz_tv = filter_by_year_and_country(tv_df, \"releaseYear\", \"availableCountries\", 2024, \"CZ\")"
   ]
  },
  {
   "cell_type": "markdown",
   "id": "df339775",
   "metadata": {},
   "source": [
    "#### Number of movies and TV shows available on each platform in Czechia"
   ]
  },
  {
   "cell_type": "code",
   "execution_count": 22,
   "id": "7ba8778c",
   "metadata": {},
   "outputs": [
    {
     "name": "stderr",
     "output_type": "stream",
     "text": [
      "[Stage 24:================================================>         (5 + 1) / 6]\r"
     ]
    },
    {
     "name": "stdout",
     "output_type": "stream",
     "text": [
      "+------------+-----+\n",
      "|    platform|count|\n",
      "+------------+-----+\n",
      "|     Netflix|  269|\n",
      "|Amazon Prime|   55|\n",
      "|     HBO Max|   37|\n",
      "|   Apple TV+|    7|\n",
      "+------------+-----+\n",
      "\n"
     ]
    },
    {
     "name": "stderr",
     "output_type": "stream",
     "text": [
      "\r",
      "                                                                                \r"
     ]
    }
   ],
   "source": [
    "cz_movies.groupBy(\"platform\").count().orderBy(\"count\", ascending=False).show()"
   ]
  },
  {
   "cell_type": "code",
   "execution_count": 23,
   "id": "84e4b22c",
   "metadata": {},
   "outputs": [
    {
     "name": "stderr",
     "output_type": "stream",
     "text": [
      "[Stage 27:=============================>                            (3 + 3) / 6]\r"
     ]
    },
    {
     "name": "stdout",
     "output_type": "stream",
     "text": [
      "+------------+-----+\n",
      "|    platform|count|\n",
      "+------------+-----+\n",
      "|     Netflix|  215|\n",
      "|     HBO Max|   70|\n",
      "|Amazon Prime|   66|\n",
      "|   Apple TV+|   35|\n",
      "+------------+-----+\n",
      "\n"
     ]
    },
    {
     "name": "stderr",
     "output_type": "stream",
     "text": [
      "\r",
      "[Stage 29:>                                                         (0 + 1) / 1]\r",
      "\r",
      "                                                                                \r"
     ]
    }
   ],
   "source": [
    "cz_tv.groupBy(\"platform\").count().orderBy(\"count\", ascending=False).show()"
   ]
  },
  {
   "cell_type": "markdown",
   "id": "51d8a0b1",
   "metadata": {},
   "source": [
    "#### The best-rated genres of movies and TV series available in Czechia"
   ]
  },
  {
   "cell_type": "code",
   "execution_count": 24,
   "id": "efd66ea4",
   "metadata": {},
   "outputs": [],
   "source": [
    "# filtering movies and TV genres\n",
    "movies_genres = cz_movies.withColumn(\"genre\", explode(split(col(\"genres\"), \", \")))\n",
    "tv_genres = cz_tv.withColumn(\"genre\", explode(split(col(\"genres\"), \", \")))"
   ]
  },
  {
   "cell_type": "code",
   "execution_count": 25,
   "id": "8bca3356",
   "metadata": {},
   "outputs": [
    {
     "name": "stdout",
     "output_type": "stream",
     "text": [
      "The most frequently occurring genres in movies:\n"
     ]
    },
    {
     "name": "stderr",
     "output_type": "stream",
     "text": [
      "[Stage 30:================================================>         (5 + 1) / 6]\r"
     ]
    },
    {
     "name": "stdout",
     "output_type": "stream",
     "text": [
      "+-----------+-----+\n",
      "|      genre|count|\n",
      "+-----------+-----+\n",
      "|     Comedy|  130|\n",
      "|      Drama|  122|\n",
      "|Documentary|  101|\n",
      "|     Action|   71|\n",
      "|      Crime|   57|\n",
      "|   Thriller|   44|\n",
      "|    Romance|   42|\n",
      "|  Adventure|   33|\n",
      "|     Horror|   23|\n",
      "|  Animation|   19|\n",
      "|  Biography|   19|\n",
      "|      Sport|   17|\n",
      "|    Mystery|   16|\n",
      "|      Music|   15|\n",
      "|    History|   12|\n",
      "|    Fantasy|   11|\n",
      "|     Sci-Fi|   11|\n",
      "|     Family|    6|\n",
      "| Reality-TV|    3|\n",
      "|        War|    3|\n",
      "+-----------+-----+\n",
      "only showing top 20 rows\n",
      "\n"
     ]
    },
    {
     "name": "stderr",
     "output_type": "stream",
     "text": [
      "\r",
      "                                                                                \r"
     ]
    }
   ],
   "source": [
    "print(\"The most frequently occurring genres in movies:\")\n",
    "movies_genres.groupBy(\"genre\").count().orderBy(\"count\", ascending=False).show()"
   ]
  },
  {
   "cell_type": "code",
   "execution_count": 26,
   "id": "3665f23d",
   "metadata": {},
   "outputs": [
    {
     "name": "stdout",
     "output_type": "stream",
     "text": [
      "The most frequently occurring genres in TV shows:\n"
     ]
    },
    {
     "name": "stderr",
     "output_type": "stream",
     "text": [
      "[Stage 33:================================================>         (5 + 1) / 6]\r"
     ]
    },
    {
     "name": "stdout",
     "output_type": "stream",
     "text": [
      "+-----------+-----+\n",
      "|      genre|count|\n",
      "+-----------+-----+\n",
      "|      Drama|  139|\n",
      "|Documentary|  108|\n",
      "|     Comedy|   94|\n",
      "|      Crime|   75|\n",
      "| Reality-TV|   55|\n",
      "|     Action|   37|\n",
      "|  Adventure|   37|\n",
      "|   Thriller|   36|\n",
      "|  Animation|   36|\n",
      "|    Romance|   29|\n",
      "|    Mystery|   26|\n",
      "|      Sport|   18|\n",
      "|  Biography|   18|\n",
      "|    History|   15|\n",
      "|  Game-Show|   11|\n",
      "|    Fantasy|   10|\n",
      "|     Family|    7|\n",
      "|     Sci-Fi|    7|\n",
      "|     Horror|    7|\n",
      "|      Music|    5|\n",
      "+-----------+-----+\n",
      "only showing top 20 rows\n",
      "\n"
     ]
    },
    {
     "name": "stderr",
     "output_type": "stream",
     "text": [
      "\r",
      "                                                                                \r"
     ]
    }
   ],
   "source": [
    "print(\"The most frequently occurring genres in TV shows:\")\n",
    "tv_genres.groupBy(\"genre\").count().orderBy(\"count\", ascending=False).show()"
   ]
  },
  {
   "cell_type": "markdown",
   "id": "a6b85bb4",
   "metadata": {},
   "source": [
    "#### TOP 10 best-rated genres for TV shows and movies available in Czechia"
   ]
  },
  {
   "cell_type": "code",
   "execution_count": 27,
   "id": "dcb03b6f",
   "metadata": {},
   "outputs": [],
   "source": [
    "top10_genres_movies = movies_genres.groupBy(\"genre\") \\\n",
    "    .agg(avg(\"imdbAverageRating\").alias(\"avg_rating\")) \\\n",
    "    .orderBy(col(\"avg_rating\").desc()) \\\n",
    "    .limit(10)\n",
    "\n",
    "top10_genres_tv = tv_genres.groupBy(\"genre\") \\\n",
    "    .agg(avg(\"imdbAverageRating\").alias(\"avg_rating\")) \\\n",
    "    .orderBy(col(\"avg_rating\").desc()) \\\n",
    "    .limit(10)"
   ]
  },
  {
   "cell_type": "code",
   "execution_count": 28,
   "id": "7ff64f7e",
   "metadata": {},
   "outputs": [
    {
     "name": "stdout",
     "output_type": "stream",
     "text": [
      "TOP10 rated genres for TV series:\n"
     ]
    },
    {
     "name": "stderr",
     "output_type": "stream",
     "text": [
      "[Stage 36:================================================>         (5 + 1) / 6]\r"
     ]
    },
    {
     "name": "stdout",
     "output_type": "stream",
     "text": [
      "+-----------+------------------+\n",
      "|      genre|        avg_rating|\n",
      "+-----------+------------------+\n",
      "|      Sport| 7.666666666666667|\n",
      "|      Music|7.5200000000000005|\n",
      "|    Western|               7.4|\n",
      "|     Family| 7.266666666666667|\n",
      "|  Biography|7.2555555555555555|\n",
      "|    Fantasy|              7.05|\n",
      "|Documentary| 6.998979591836735|\n",
      "|    Romance| 6.927586206896552|\n",
      "|     Action| 6.864864864864865|\n",
      "|      Crime|6.8069444444444445|\n",
      "+-----------+------------------+\n",
      "\n"
     ]
    },
    {
     "name": "stderr",
     "output_type": "stream",
     "text": [
      "\r",
      "                                                                                \r"
     ]
    }
   ],
   "source": [
    "print(\"TOP10 rated genres for TV series:\")\n",
    "top10_genres_tv.show()"
   ]
  },
  {
   "cell_type": "code",
   "execution_count": 29,
   "id": "07d4ccaf",
   "metadata": {},
   "outputs": [
    {
     "name": "stdout",
     "output_type": "stream",
     "text": [
      "TOP10 rated genres for movies:\n"
     ]
    },
    {
     "name": "stderr",
     "output_type": "stream",
     "text": [
      "[Stage 39:================================================>         (5 + 1) / 6]\r"
     ]
    },
    {
     "name": "stdout",
     "output_type": "stream",
     "text": [
      "+-----------+-----------------+\n",
      "|      genre|       avg_rating|\n",
      "+-----------+-----------------+\n",
      "|  Talk-Show|             7.15|\n",
      "|      Short|              7.1|\n",
      "|      Music|7.010000000000001|\n",
      "|Documentary|6.802150537634407|\n",
      "|        War|              6.8|\n",
      "|  Biography|6.447368421052633|\n",
      "|      Sport|6.394117647058823|\n",
      "|     Family|6.166666666666667|\n",
      "|  Animation|6.144444444444444|\n",
      "|    History|6.081818181818182|\n",
      "+-----------+-----------------+\n",
      "\n"
     ]
    },
    {
     "name": "stderr",
     "output_type": "stream",
     "text": [
      "\r",
      "                                                                                \r"
     ]
    }
   ],
   "source": [
    "print(\"TOP10 rated genres for movies:\")\n",
    "top10_genres_movies.show()"
   ]
  },
  {
   "cell_type": "markdown",
   "id": "a8d56b13",
   "metadata": {},
   "source": [
    "#### TOP10 rated movies and TV series available in Czechia"
   ]
  },
  {
   "cell_type": "code",
   "execution_count": 30,
   "id": "5812e267",
   "metadata": {},
   "outputs": [],
   "source": [
    "top10_movies = cz_movies.select(\"title\", \"imdbAverageRating\", \"platform\").filter(col(\"imdbAverageRating\").isNotNull()) \\\n",
    "    .orderBy(col(\"imdbAverageRating\").desc()) \\\n",
    "    .limit(10)\n",
    "\n",
    "top10_tv = cz_tv.select(\"title\", \"imdbAverageRating\", \"platform\").filter(col(\"imdbAverageRating\").isNotNull()) \\\n",
    "    .orderBy(col(\"imdbAverageRating\").desc()) \\\n",
    "    .limit(10)"
   ]
  },
  {
   "cell_type": "code",
   "execution_count": 31,
   "id": "b1682367",
   "metadata": {},
   "outputs": [
    {
     "name": "stdout",
     "output_type": "stream",
     "text": [
      "TOP10 rated movies:\n"
     ]
    },
    {
     "name": "stderr",
     "output_type": "stream",
     "text": [
      "\r",
      "[Stage 42:===================>                                      (2 + 3) / 6]\r",
      "\r",
      "[Stage 42:======================================>                   (4 + 2) / 6]\r"
     ]
    },
    {
     "name": "stdout",
     "output_type": "stream",
     "text": [
      "+-------------------------------+-----------------+------------+\n",
      "|title                          |imdbAverageRating|platform    |\n",
      "+-------------------------------+-----------------+------------+\n",
      "|Modern Masters                 |8.7              |Netflix     |\n",
      "|Dune: Part Two                 |8.5              |HBO Max     |\n",
      "|Meiyazhagan                    |8.5              |Netflix     |\n",
      "|Maharaja                       |8.5              |Netflix     |\n",
      "|The Remarkable Life of Ibelin  |8.4              |Netflix     |\n",
      "|Giannis: The Marvelous Journey |8.3              |Amazon Prime|\n",
      "|Hai, Romania!                  |8.1              |Netflix     |\n",
      "|Olivia Rodrigo: GUTS World Tour|8.0              |Netflix     |\n",
      "|Stevie Van Zandt: Disciple     |7.9              |HBO Max     |\n",
      "|The Greatest Night in Pop      |7.9              |Netflix     |\n",
      "+-------------------------------+-----------------+------------+\n",
      "\n"
     ]
    },
    {
     "name": "stderr",
     "output_type": "stream",
     "text": [
      "\r",
      "[Stage 42:================================================>         (5 + 1) / 6]\r",
      "\r",
      "                                                                                \r"
     ]
    }
   ],
   "source": [
    "print(\"TOP10 rated movies:\")\n",
    "top10_movies.show(truncate=False)"
   ]
  },
  {
   "cell_type": "code",
   "execution_count": 32,
   "id": "d48c095e",
   "metadata": {},
   "outputs": [
    {
     "name": "stdout",
     "output_type": "stream",
     "text": [
      "TOP10 rated TV series:\n"
     ]
    },
    {
     "name": "stderr",
     "output_type": "stream",
     "text": [
      "\r",
      "[Stage 43:======================================>                   (4 + 2) / 6]\r"
     ]
    },
    {
     "name": "stdout",
     "output_type": "stream",
     "text": [
      "+----------------------------------------+-----------------+------------+\n",
      "|title                                   |imdbAverageRating|platform    |\n",
      "+----------------------------------------+-----------------+------------+\n",
      "|The Tragically Hip: No Dress Rehearsal  |9.4              |Amazon Prime|\n",
      "|Game 7                                  |8.9              |Amazon Prime|\n",
      "|The Penguin                             |8.8              |HBO Max     |\n",
      "|The Comeback: 2004 Boston Red Sox       |8.7              |Netflix     |\n",
      "|Botched Bariatrics                      |8.6              |HBO Max     |\n",
      "|Faceoff: Inside the NHL                 |8.5              |Amazon Prime|\n",
      "|Culinary Class Wars                     |8.5              |Netflix     |\n",
      "|Earthsounds                             |8.5              |Apple TV+   |\n",
      "|Fallout                                 |8.4              |Amazon Prime|\n",
      "|Turning Point: The Bomb and the Cold War|8.4              |Netflix     |\n",
      "+----------------------------------------+-----------------+------------+\n",
      "\n"
     ]
    },
    {
     "name": "stderr",
     "output_type": "stream",
     "text": [
      "\r",
      "[Stage 43:================================================>         (5 + 1) / 6]\r",
      "\r",
      "                                                                                \r"
     ]
    }
   ],
   "source": [
    "print(\"TOP10 rated TV series:\")\n",
    "top10_tv.show(truncate=False)"
   ]
  },
  {
   "cell_type": "markdown",
   "id": "20502dd8",
   "metadata": {},
   "source": [
    "#### Average ratings by platform for movies and TV series available in Czechia"
   ]
  },
  {
   "cell_type": "code",
   "execution_count": 33,
   "id": "d7aa9f8c",
   "metadata": {},
   "outputs": [],
   "source": [
    "movies_platform = cz_movies.groupBy(\"platform\") \\\n",
    "    .agg(avg(\"imdbAverageRating\").alias(\"avg_rating\")) \\\n",
    "    .orderBy(col(\"avg_rating\").desc())\n",
    "\n",
    "tv_platform = cz_tv.groupBy(\"platform\") \\\n",
    "    .agg(avg(\"imdbAverageRating\").alias(\"avg_rating\")) \\\n",
    "    .orderBy(col(\"avg_rating\").desc())"
   ]
  },
  {
   "cell_type": "code",
   "execution_count": 34,
   "id": "3c4e7fad",
   "metadata": {},
   "outputs": [
    {
     "name": "stdout",
     "output_type": "stream",
     "text": [
      "Average ratings by platform for movies:\n"
     ]
    },
    {
     "name": "stderr",
     "output_type": "stream",
     "text": [
      "\r",
      "[Stage 44:===================>                                      (2 + 3) / 6]\r",
      "\r",
      "[Stage 44:======================================>                   (4 + 2) / 6]\r"
     ]
    },
    {
     "name": "stdout",
     "output_type": "stream",
     "text": [
      "+------------+-----------------+\n",
      "|    platform|       avg_rating|\n",
      "+------------+-----------------+\n",
      "|   Apple TV+|6.657142857142857|\n",
      "|     HBO Max|6.441935483870968|\n",
      "|     Netflix|6.060629921259841|\n",
      "|Amazon Prime|5.593478260869567|\n",
      "+------------+-----------------+\n",
      "\n"
     ]
    },
    {
     "name": "stderr",
     "output_type": "stream",
     "text": [
      "\r",
      "                                                                                \r"
     ]
    }
   ],
   "source": [
    "print(\"Average ratings by platform for movies:\")\n",
    "movies_platform.show()"
   ]
  },
  {
   "cell_type": "code",
   "execution_count": 35,
   "id": "85c551ab",
   "metadata": {},
   "outputs": [
    {
     "name": "stdout",
     "output_type": "stream",
     "text": [
      "Average ratings by platform for TV series:\n"
     ]
    },
    {
     "name": "stderr",
     "output_type": "stream",
     "text": [
      "\r",
      "[Stage 47:===================>                                      (2 + 3) / 6]\r",
      "\r",
      "[Stage 47:======================================>                   (4 + 2) / 6]\r"
     ]
    },
    {
     "name": "stdout",
     "output_type": "stream",
     "text": [
      "+------------+-----------------+\n",
      "|    platform|       avg_rating|\n",
      "+------------+-----------------+\n",
      "|   Apple TV+|7.014285714285714|\n",
      "|     HBO Max|6.780645161290322|\n",
      "|Amazon Prime|6.736206896551724|\n",
      "|     Netflix|6.712077294685991|\n",
      "+------------+-----------------+\n",
      "\n"
     ]
    },
    {
     "name": "stderr",
     "output_type": "stream",
     "text": [
      "\r",
      "                                                                                \r"
     ]
    }
   ],
   "source": [
    "print(\"Average ratings by platform for TV series:\")\n",
    "tv_platform.show()"
   ]
  }
 ],
 "metadata": {
  "kernelspec": {
   "display_name": "PySpark",
   "language": "python",
   "name": "pyspark"
  },
  "language_info": {
   "codemirror_mode": {
    "name": "ipython",
    "version": 3
   },
   "file_extension": ".py",
   "mimetype": "text/x-python",
   "name": "python",
   "nbconvert_exporter": "python",
   "pygments_lexer": "ipython3",
   "version": "3.11.8"
  }
 },
 "nbformat": 4,
 "nbformat_minor": 5
}